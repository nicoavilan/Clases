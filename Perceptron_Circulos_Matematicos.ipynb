{
  "nbformat": 4,
  "nbformat_minor": 0,
  "metadata": {
    "colab": {
      "provenance": [],
      "include_colab_link": true
    },
    "kernelspec": {
      "name": "python3",
      "display_name": "Python 3"
    },
    "language_info": {
      "name": "python"
    }
  },
  "cells": [
    {
      "cell_type": "markdown",
      "metadata": {
        "id": "view-in-github",
        "colab_type": "text"
      },
      "source": [
        "<a href=\"https://colab.research.google.com/github/nicoavilan/Clases/blob/main/Perceptron_Circulos_Matematicos.ipynb\" target=\"_parent\"><img src=\"https://colab.research.google.com/assets/colab-badge.svg\" alt=\"Open In Colab\"/></a>"
      ]
    },
    {
      "cell_type": "markdown",
      "source": [
        "# **Círculos Matemáticos - Universidad del Rosario**\n",
        "\n",
        "[Matematicas Aplicadas y Ciencias de la Computacion - MACC](https://urosario.edu.co/matematicas-aplicadas-y-ciencias-de-la-computacion-macc)\n",
        "\n",
        "[Escuela de Ingenieria, Ciencia y Tecnologia](https://urosario.edu.co/escuela-de-ingenieria-ciencia-y-tecnologia)"
      ],
      "metadata": {
        "id": "_5_fPtVdo3eu"
      }
    },
    {
      "cell_type": "markdown",
      "source": [
        "Video Introductorio\n",
        "\n",
        "[¿Qué es una Red Neuronal? Parte 1 : La Neurona | DotCSV\n",
        "](https://www.youtube.com/watch?v=MRIv2IwFTPg)"
      ],
      "metadata": {
        "id": "PZOG-ocw367D"
      }
    },
    {
      "cell_type": "markdown",
      "source": [
        "# **Perceptrón**"
      ],
      "metadata": {
        "id": "c3PnBvTm30fT"
      }
    },
    {
      "cell_type": "code",
      "metadata": {
        "id": "1-hOU2s-hD3a"
      },
      "source": [
        "import matplotlib.pyplot as plt\n",
        "import numpy as np"
      ],
      "execution_count": 10,
      "outputs": []
    },
    {
      "cell_type": "markdown",
      "source": [
        "**Cambio de Temperatura**"
      ],
      "metadata": {
        "id": "AMltUKm_04lo"
      }
    },
    {
      "cell_type": "markdown",
      "source": [
        "En esta sesión usaremos un perceptrón para deducir la regla de transformación de la escala de temperaturas.\n",
        "\n",
        "$$F = 1.8C + 32 $$"
      ],
      "metadata": {
        "id": "ftqzJJTc4GOk"
      }
    },
    {
      "cell_type": "code",
      "metadata": {
        "id": "snicmJfVU21N"
      },
      "source": [
        "def F(c):\n",
        "  return 1.8*c + 32"
      ],
      "execution_count": 11,
      "outputs": []
    },
    {
      "cell_type": "code",
      "metadata": {
        "id": "QD8sugXTVIxP"
      },
      "source": [
        "x = np.array([-40, 0 , 10 , 20 , 30, 50, 60])\n",
        "T = np.array([-40, 32, 50, 68, 86, 122, 140])\n",
        "print(\"Temperaturas en Celsius:\\n\",x)\n",
        "print(\"Temperaturas en Fahrenheit:\\n\",T)"
      ],
      "execution_count": null,
      "outputs": []
    },
    {
      "cell_type": "markdown",
      "source": [
        "Gráfica de los datos conocidos"
      ],
      "metadata": {
        "id": "-ZbjfQbE80ge"
      }
    },
    {
      "cell_type": "code",
      "source": [
        "plt.scatter(x,T)\n",
        "plt.xlabel(\"Temperatura en Celsius\")\n",
        "plt.ylabel(\"Temperatura en Fahrenheit\")\n",
        "plt.show()"
      ],
      "metadata": {
        "id": "LcbhyjsD8zFY"
      },
      "execution_count": null,
      "outputs": []
    },
    {
      "cell_type": "markdown",
      "source": [
        "Se busca un modelo de la forma:\n",
        "$$y = m x + b$$\n",
        "\n",
        "La solución se obtiene al encontrar los mejores valores para los parámetros $m$ y $b$.\n",
        "\n",
        "Al hacer una predicción $y$ habrá un error $E = (\\hat{y}-y)$. Este error es usado para actualizar los valores de los parámetros\n",
        "$$m = m + \\alpha E x $$\n",
        "$$b = b + \\alpha E $$\n",
        "En la literatura se le llama peso sináptico a la cantidad $Ex$ y se denota como $dm=Ex = (\\hat{y}-y)x$.\n",
        "\n",
        "\n",
        "La corrección de los parámetros se hace siguiendo\n",
        "$$m = m + \\alpha (\\hat{y} - y)x $$\n",
        "$$b = b + \\alpha (\\hat{y} - y) $$\n",
        "donde $\\hat y$ es el valor real mientras que $y$ es el valor que predice el modelo."
      ],
      "metadata": {
        "id": "acX5xXjO1k1f"
      }
    },
    {
      "cell_type": "code",
      "metadata": {
        "id": "hxnvuU89VWKT"
      },
      "source": [
        "m = np.random.rand()\n",
        "b = np.random.rand()\n",
        "α = 0.001 # El valor inicial es 0.001\n",
        "M = []\n",
        "B = []\n",
        "error = []\n",
        "epoca = 1000 # El valor inicial es 1000\n",
        "for k in range(epoca):\n",
        "  for n in range(len(x)):\n",
        "    y = m*x[n] + b\n",
        "\n",
        "    m = m + α*(T[n] - y)*x[n]\n",
        "    b = b + α*(T[n] - y)\n",
        "    M.append(m)\n",
        "    B.append(b)\n",
        "    error.append(abs(y - T[n]))\n",
        "print(\"El parámetro m es {}.\\nEl parámetro b es {}.\\n\".format(m, b))\n",
        "\n"
      ],
      "execution_count": null,
      "outputs": []
    },
    {
      "cell_type": "code",
      "source": [
        "plt.figure(figsize=(10,5))\n",
        "plt.subplot(1,2,1)\n",
        "plt.plot(M, label = \"m\")\n",
        "plt.plot(B, label = \"b\")\n",
        "plt.title(\"Parámetros del Modelo\")\n",
        "plt.legend()\n",
        "\n",
        "plt.subplot(1,2,2)\n",
        "plt.plot(error)\n",
        "plt.title(\"Error en el Cálculo\")\n",
        "plt.show()"
      ],
      "metadata": {
        "id": "t9ajT51t8cWh"
      },
      "execution_count": null,
      "outputs": []
    },
    {
      "cell_type": "markdown",
      "metadata": {
        "id": "GwwjEghE3HPs"
      },
      "source": [
        "Comparo el modelo con los datos\n"
      ]
    },
    {
      "cell_type": "code",
      "metadata": {
        "id": "E98pPZyG3Kkh"
      },
      "source": [
        "def Model(x):\n",
        "  return m*x + b"
      ],
      "execution_count": 16,
      "outputs": []
    },
    {
      "cell_type": "code",
      "metadata": {
        "id": "VFdvlDDH3Shq"
      },
      "source": [
        "yp = []\n",
        "for n in range(len(x)):\n",
        "  yp.append(Model(x[n]))"
      ],
      "execution_count": 17,
      "outputs": []
    },
    {
      "cell_type": "code",
      "metadata": {
        "id": "Z4yviK2m3smj"
      },
      "source": [
        "plt.scatter(x,T,color = \"r\", label= \"Datos de entrenamiento\")\n",
        "plt.plot(x,yp, label= \"Predicción del modelo\")\n",
        "plt.legend()\n",
        "plt.xlabel(\"Temperatura en Celsius\")\n",
        "plt.ylabel(\"Temperatura en Fahrenheit\")\n",
        "plt.show()"
      ],
      "execution_count": null,
      "outputs": []
    },
    {
      "cell_type": "markdown",
      "source": [
        "[Nicolás Avilán Vargas](http://www.linkedin.com/in/nicoavilanv)\n",
        "\n",
        "Para reportar errores o sugenerencias: nicolasg.avilan@urosario.edu.co"
      ],
      "metadata": {
        "id": "vuhZdPpCpu5s"
      }
    }
  ]
}