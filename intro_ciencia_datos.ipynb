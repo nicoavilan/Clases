{
  "nbformat": 4,
  "nbformat_minor": 0,
  "metadata": {
    "colab": {
      "provenance": [],
      "authorship_tag": "ABX9TyMGJZgZNCCWxcPtSjxWe2yY",
      "include_colab_link": true
    },
    "kernelspec": {
      "name": "python3",
      "display_name": "Python 3"
    },
    "language_info": {
      "name": "python"
    }
  },
  "cells": [
    {
      "cell_type": "markdown",
      "metadata": {
        "id": "view-in-github",
        "colab_type": "text"
      },
      "source": [
        "<a href=\"https://colab.research.google.com/github/nicoavilan/Clases/blob/main/intro_ciencia_datos.ipynb\" target=\"_parent\"><img src=\"https://colab.research.google.com/assets/colab-badge.svg\" alt=\"Open In Colab\"/></a>"
      ]
    },
    {
      "cell_type": "markdown",
      "source": [
        "# **Introducción a la Ciencia de datos**\n",
        "\n",
        "**Nicolás Avilán Vargas, PhD.**\n",
        "\n",
        "Director de Ciencia de Datos\n",
        "\n",
        "Facultad de Ingeniería y Ciencias Básicas\n",
        "\n",
        "Universidad Central\n",
        "\n",
        "[Pregrado en Ciencia de Datos - Universidad Central](https://www.ucentral.edu.co/programa-academico/ciencia-datos)"
      ],
      "metadata": {
        "id": "uUminPOc0U5M"
      }
    },
    {
      "cell_type": "markdown",
      "source": [
        "## Librerías"
      ],
      "metadata": {
        "id": "jtTQn8gHpAbC"
      }
    },
    {
      "cell_type": "markdown",
      "source": [
        "Las librerías son como cajas de herramientas para tareas de programación."
      ],
      "metadata": {
        "id": "1PYdrZlJrvpc"
      }
    },
    {
      "cell_type": "code",
      "execution_count": 20,
      "metadata": {
        "id": "6x6nMh5lo3NG"
      },
      "outputs": [],
      "source": [
        "import numpy as np # Para manipular números\n",
        "import pandas as pd # Para manipular tablas de datos\n",
        "import matplotlib.pyplot as plt # Para hacer gráficas"
      ]
    },
    {
      "cell_type": "markdown",
      "source": [
        "## Cargue de datos"
      ],
      "metadata": {
        "id": "F6_cRVXkpLM6"
      }
    },
    {
      "cell_type": "code",
      "source": [
        "url = \"https://raw.githubusercontent.com/nicoavilan/Bases-de-datos/main/temperatura.csv\"\n",
        "df = pd.read_csv(url)\n",
        "df"
      ],
      "metadata": {
        "id": "6nVj0ESupJDL"
      },
      "execution_count": null,
      "outputs": []
    },
    {
      "cell_type": "markdown",
      "source": [
        "## Exploración de datos"
      ],
      "metadata": {
        "id": "CCOykgxzrN4l"
      }
    },
    {
      "cell_type": "code",
      "source": [
        "df.info()"
      ],
      "metadata": {
        "id": "Rt4lH56pp8M6"
      },
      "execution_count": null,
      "outputs": []
    },
    {
      "cell_type": "code",
      "source": [
        "df.describe()"
      ],
      "metadata": {
        "id": "-CeLmp2Rpj6b"
      },
      "execution_count": null,
      "outputs": []
    },
    {
      "cell_type": "markdown",
      "source": [
        "Redondeo los resultados con una cifra decimal."
      ],
      "metadata": {
        "id": "7UqUXLXz0Yxw"
      }
    },
    {
      "cell_type": "code",
      "source": [
        "round(df.describe(), 1)"
      ],
      "metadata": {
        "id": "_-F6Rq1Hp3zr"
      },
      "execution_count": null,
      "outputs": []
    },
    {
      "cell_type": "code",
      "source": [
        "df.columns"
      ],
      "metadata": {
        "id": "i4gqd0yGtJh1"
      },
      "execution_count": null,
      "outputs": []
    },
    {
      "cell_type": "code",
      "source": [
        "df.Temperatura"
      ],
      "metadata": {
        "id": "1YcnyZxJp5gq"
      },
      "execution_count": null,
      "outputs": []
    },
    {
      "cell_type": "markdown",
      "source": [
        "**Ejercicio:** ¿cómo imprimo los valores de la columna *Ventas*?"
      ],
      "metadata": {
        "id": "ydPOlCJPr7rm"
      }
    },
    {
      "cell_type": "code",
      "source": [],
      "metadata": {
        "id": "q1oMARXz4X12"
      },
      "execution_count": 26,
      "outputs": []
    },
    {
      "cell_type": "markdown",
      "source": [
        "Valores máximos y mínimos de cada columna"
      ],
      "metadata": {
        "id": "WWQOJrd4sMoN"
      }
    },
    {
      "cell_type": "code",
      "source": [
        "df.Temperatura.max() # máximo"
      ],
      "metadata": {
        "id": "rrWYxSu0sRC9"
      },
      "execution_count": null,
      "outputs": []
    },
    {
      "cell_type": "code",
      "source": [
        "df.Temperatura.min() # mínimo"
      ],
      "metadata": {
        "id": "5vg6gG0GsXJN"
      },
      "execution_count": null,
      "outputs": []
    },
    {
      "cell_type": "code",
      "source": [
        "df.Temperatura.mean() # promedio"
      ],
      "metadata": {
        "id": "EcUocVZKsYFO"
      },
      "execution_count": null,
      "outputs": []
    },
    {
      "cell_type": "markdown",
      "source": [
        "**Ejercicio:** ¿cómo imprimo los valores máximo, mínimo y promedio de la columna *Ventas*?"
      ],
      "metadata": {
        "id": "tJGYdYpsselJ"
      }
    },
    {
      "cell_type": "code",
      "source": [],
      "metadata": {
        "id": "V7QXGwNTsik2"
      },
      "execution_count": 29,
      "outputs": []
    },
    {
      "cell_type": "code",
      "source": [],
      "metadata": {
        "id": "BSI753b7uhLV"
      },
      "execution_count": 29,
      "outputs": []
    },
    {
      "cell_type": "code",
      "source": [],
      "metadata": {
        "id": "eTlRViQmuhe8"
      },
      "execution_count": 29,
      "outputs": []
    },
    {
      "cell_type": "markdown",
      "source": [
        "##  Visualización de datos"
      ],
      "metadata": {
        "id": "qyapY-POrSP0"
      }
    },
    {
      "cell_type": "code",
      "source": [
        "# plt.plot(eje x, eje y)\n",
        "plt.plot(df.Temperatura, df.Ventas)\n",
        "plt.show()"
      ],
      "metadata": {
        "id": "ZZBgzO6prUGl"
      },
      "execution_count": null,
      "outputs": []
    },
    {
      "cell_type": "code",
      "source": [
        "df"
      ],
      "metadata": {
        "id": "4Hr2NgTDttU2"
      },
      "execution_count": null,
      "outputs": []
    },
    {
      "cell_type": "code",
      "source": [
        "df.sort_values(\"Temperatura\", inplace = True)"
      ],
      "metadata": {
        "id": "1bkxNWFltt6V"
      },
      "execution_count": 32,
      "outputs": []
    },
    {
      "cell_type": "code",
      "source": [
        "df"
      ],
      "metadata": {
        "id": "oo5-I7rat45F"
      },
      "execution_count": null,
      "outputs": []
    },
    {
      "cell_type": "markdown",
      "source": [
        "Ahora ordeno los índices de las filas en la tabla"
      ],
      "metadata": {
        "id": "GxUcNxxXwWI8"
      }
    },
    {
      "cell_type": "code",
      "source": [
        "df.reset_index(drop = True, inplace = True)"
      ],
      "metadata": {
        "id": "eCQWvi5awL1w"
      },
      "execution_count": 34,
      "outputs": []
    },
    {
      "cell_type": "code",
      "source": [
        "df"
      ],
      "metadata": {
        "id": "VOblH6QAwe8P"
      },
      "execution_count": null,
      "outputs": []
    },
    {
      "cell_type": "markdown",
      "source": [
        "¡Ahora la gráfica queda mejor!"
      ],
      "metadata": {
        "id": "UDsyeEJluj-6"
      }
    },
    {
      "cell_type": "code",
      "source": [
        "plt.plot(df.Temperatura, df.Ventas)\n",
        "plt.show()"
      ],
      "metadata": {
        "id": "_2eAS5kYuRsl"
      },
      "execution_count": null,
      "outputs": []
    },
    {
      "cell_type": "markdown",
      "source": [
        "Puede ser mejorada agregando un título y nombres a los ejes."
      ],
      "metadata": {
        "id": "rHnkrYrbutHW"
      }
    },
    {
      "cell_type": "markdown",
      "source": [
        "## ¿Cómo calcular una nueva columna?"
      ],
      "metadata": {
        "id": "rGJKS_-iu2Um"
      }
    },
    {
      "cell_type": "markdown",
      "source": [
        "Hay que tener en cuenta que la transformación de temperatura de grados Fahrenheit a Celcius se hace con la siguiente ecuación:\n",
        "\n",
        "$$ C = \\frac{5}{9}(F-32) $$\n",
        "\n",
        "Ahora calculo una nueva columna con las temperaturas en grados Celcius."
      ],
      "metadata": {
        "id": "gryYCItcvEAP"
      }
    },
    {
      "cell_type": "code",
      "source": [
        "df[\"Celsius\"] = np.round((5/9)*(df.Temperatura - 32), 1)"
      ],
      "metadata": {
        "id": "3d4zZzjyuJV9"
      },
      "execution_count": 37,
      "outputs": []
    },
    {
      "cell_type": "code",
      "source": [
        "df"
      ],
      "metadata": {
        "id": "0po0nM1Xv-LH"
      },
      "execution_count": null,
      "outputs": []
    },
    {
      "cell_type": "markdown",
      "source": [
        "## Ejercicio final"
      ],
      "metadata": {
        "id": "Z4s_6rzi6FLT"
      }
    },
    {
      "cell_type": "markdown",
      "source": [
        "**Ejercicio:** Graficar los valores de temperatura en Celcius y Ventas de helado. Hay que generar una gráfica como la siguiente:\n",
        "\n",
        "![image.png](data:image/png;base64,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)"
      ],
      "metadata": {
        "id": "BYm0JT8pzr-7"
      }
    },
    {
      "cell_type": "markdown",
      "source": [
        "Resuelva el ejercicio en la siguiente celda"
      ],
      "metadata": {
        "id": "BzD4Yoqq5Aa9"
      }
    },
    {
      "cell_type": "code",
      "source": [],
      "metadata": {
        "id": "99ZhTlbZ5AFj"
      },
      "execution_count": 38,
      "outputs": []
    },
    {
      "cell_type": "markdown",
      "source": [
        "# **Otros ejemplos de visualización de datos**\n",
        "\n",
        "[Modelo SIR - Solución y Simulación | Código en descripción | Python](https://www.youtube.com/watch?v=VF_4YvdW-qU)\n",
        "\n",
        "[Animación electrocardiograma en Python](https://www.youtube.com/watch?v=sB9yjDxTaCo)"
      ],
      "metadata": {
        "id": "qynKy-_P2n3U"
      }
    },
    {
      "cell_type": "markdown",
      "source": [
        "**¡Quiero inscribirme a Ciencia de Datos!**\n",
        "\n",
        "[Enlace de inscripción](https://www.ucentral.edu.co/admisiones/inscripciones-pregrado-posgrado)"
      ],
      "metadata": {
        "id": "aIBPR35u3Je1"
      }
    }
  ]
}