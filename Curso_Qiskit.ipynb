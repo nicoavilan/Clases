{
  "nbformat": 4,
  "nbformat_minor": 0,
  "metadata": {
    "colab": {
      "provenance": [],
      "authorship_tag": "ABX9TyNTuNUnwo/d0hq/2cyIwIHc",
      "include_colab_link": true
    },
    "kernelspec": {
      "name": "python3",
      "display_name": "Python 3"
    },
    "language_info": {
      "name": "python"
    }
  },
  "cells": [
    {
      "cell_type": "markdown",
      "metadata": {
        "id": "view-in-github",
        "colab_type": "text"
      },
      "source": [
        "<a href=\"https://colab.research.google.com/github/nicoavilan/Clases/blob/main/Curso_Qiskit.ipynb\" target=\"_parent\"><img src=\"https://colab.research.google.com/assets/colab-badge.svg\" alt=\"Open In Colab\"/></a>"
      ]
    },
    {
      "cell_type": "markdown",
      "source": [
        "# **Introducción a la Computación Cuántica**\n",
        "\n",
        "**Nicolás Avilán Vargas, PhD.**\n",
        "\n",
        "Director de Ciencia de Datos\n",
        "\n",
        "Facultad de Ingeniería y Ciencias Básicas\n",
        "\n",
        "Universidad Central\n",
        "\n"
      ],
      "metadata": {
        "id": "wZwpSEohJDY5"
      }
    },
    {
      "cell_type": "markdown",
      "source": [
        "Video introductorio:\n",
        "\n",
        "[¿Qué es y cómo funciona la COMPUTACIÓN CUÁNTICA?](https://www.youtube.com/watch?v=YpYuBEzfRlM)"
      ],
      "metadata": {
        "id": "L-g287OfJ1S0"
      }
    },
    {
      "cell_type": "markdown",
      "source": [
        "Motación de kets\n",
        "\n",
        "$$|0 \\rangle = \\begin{pmatrix}\n",
        "1 \\\\\n",
        "0\n",
        "\\end{pmatrix} , \\qquad  |1 \\rangle = \\begin{pmatrix}\n",
        "0 \\\\\n",
        "1\n",
        "\\end{pmatrix}$$\n",
        "\n",
        "$$\\frac{1}{2}|0 \\rangle + \\frac{1}{2}|1 \\rangle= \\frac{1}{2}\\begin{pmatrix}\n",
        "1 \\\\\n",
        "1\n",
        "\\end{pmatrix}$$"
      ],
      "metadata": {
        "id": "KjE71WLhKcV5"
      }
    },
    {
      "cell_type": "code",
      "source": [
        "from numpy import array\n",
        "from numpy import matmul\n",
        "from numpy import sqrt"
      ],
      "metadata": {
        "id": "CGFZcAa8LU5X"
      },
      "execution_count": 14,
      "outputs": []
    },
    {
      "cell_type": "code",
      "execution_count": null,
      "metadata": {
        "id": "s-8TQ308JR2f"
      },
      "outputs": [],
      "source": [
        "ket0 = array([1, 0])\n",
        "ket1 = array([0, 1])\n",
        "\n",
        "display(ket0 / 2 + ket1 / 2)"
      ]
    },
    {
      "cell_type": "code",
      "source": [
        "ket0 / 2 + ket1 / 2"
      ],
      "metadata": {
        "id": "QbEaTlTcJaC4"
      },
      "execution_count": null,
      "outputs": []
    },
    {
      "cell_type": "markdown",
      "source": [
        "Sumo matrices"
      ],
      "metadata": {
        "id": "C0VT021xLazP"
      }
    },
    {
      "cell_type": "code",
      "source": [
        "M1 = array([[1, 1], [0, 0]])\n",
        "M2 = array([[1, 1], [1, 0]])\n",
        "\n",
        "M1 / 2 + M2 / 2"
      ],
      "metadata": {
        "id": "ofTFO3s6Jgxo"
      },
      "execution_count": null,
      "outputs": []
    },
    {
      "cell_type": "markdown",
      "source": [
        "Multiplicación de matrices"
      ],
      "metadata": {
        "id": "baAQyiWNLkwk"
      }
    },
    {
      "cell_type": "code",
      "source": [
        "matmul(M1, ket1)"
      ],
      "metadata": {
        "id": "zRaPvSqvJjhq"
      },
      "execution_count": null,
      "outputs": []
    },
    {
      "cell_type": "code",
      "source": [
        "display(matmul(M1, M2))"
      ],
      "metadata": {
        "id": "ipawF2w4LpOJ"
      },
      "execution_count": null,
      "outputs": []
    },
    {
      "cell_type": "code",
      "source": [
        "display(matmul(M2, M1))"
      ],
      "metadata": {
        "id": "u7SJIOGzLqWT"
      },
      "execution_count": null,
      "outputs": []
    },
    {
      "cell_type": "markdown",
      "source": [
        "Inicio a Qiskit"
      ],
      "metadata": {
        "id": "Dfb1DxX2MK6s"
      }
    },
    {
      "cell_type": "code",
      "source": [
        "pip install qiskit"
      ],
      "metadata": {
        "id": "KDkbgEztMP4g"
      },
      "execution_count": null,
      "outputs": []
    },
    {
      "cell_type": "code",
      "source": [
        "from qiskit.quantum_info import Statevector"
      ],
      "metadata": {
        "id": "2zT6anaUMZes"
      },
      "execution_count": 15,
      "outputs": []
    },
    {
      "cell_type": "code",
      "source": [
        "\n",
        "\n",
        "\n",
        "u = Statevector([1 / sqrt(2), 1 / sqrt(2)])\n",
        "v = Statevector([(1 + 2.0j) / 3, -2 / 3])\n",
        "w = Statevector([1 / 3, 2 / 3])\n",
        "\n",
        "print(\"Los vectores de estado u, v y w se han definido.\")"
      ],
      "metadata": {
        "id": "hA7RaDBiJnQ-"
      },
      "execution_count": null,
      "outputs": []
    },
    {
      "cell_type": "markdown",
      "source": [
        "Expreso los estados"
      ],
      "metadata": {
        "id": "Pkho2ExlNO8A"
      }
    },
    {
      "cell_type": "code",
      "source": [
        "display(u.draw(\"latex\"))"
      ],
      "metadata": {
        "id": "yOPc2S-XJqVU"
      },
      "execution_count": null,
      "outputs": []
    },
    {
      "cell_type": "code",
      "source": [
        "display(v.draw(\"text\"))"
      ],
      "metadata": {
        "id": "N9R66CwzNMGb"
      },
      "execution_count": null,
      "outputs": []
    },
    {
      "cell_type": "markdown",
      "source": [
        "Verifico si son estados válidos"
      ],
      "metadata": {
        "id": "6eDBl2RcNL01"
      }
    },
    {
      "cell_type": "code",
      "source": [
        "display(u.is_valid())"
      ],
      "metadata": {
        "id": "XrHfgZnpJ95n"
      },
      "execution_count": null,
      "outputs": []
    },
    {
      "cell_type": "code",
      "source": [
        "display(w.is_valid())"
      ],
      "metadata": {
        "id": "tEqIA5p9NukB"
      },
      "execution_count": null,
      "outputs": []
    },
    {
      "cell_type": "code",
      "source": [
        "v = Statevector([(1 + 2.0j) / 3, -2 / 3])\n",
        "v.draw(\"latex\")"
      ],
      "metadata": {
        "id": "_Xpd3ISqJ-NQ"
      },
      "execution_count": null,
      "outputs": []
    },
    {
      "cell_type": "markdown",
      "source": [
        "Mido el estado. En cada ejecución puedo generar un resultado diferente"
      ],
      "metadata": {
        "id": "BIX_V_-NOMJU"
      }
    },
    {
      "cell_type": "code",
      "source": [
        "v.measure()"
      ],
      "metadata": {
        "id": "OAhKQVIgKAv5"
      },
      "execution_count": null,
      "outputs": []
    },
    {
      "cell_type": "markdown",
      "source": [
        "Explicar el resultado"
      ],
      "metadata": {
        "id": "43-JYFrWObEC"
      }
    },
    {
      "cell_type": "code",
      "source": [
        "w.measure()"
      ],
      "metadata": {
        "id": "zqFcFZxkN3BK"
      },
      "execution_count": null,
      "outputs": []
    },
    {
      "cell_type": "markdown",
      "source": [
        "Puedo hacer una cantidad significativa de experimentos para interpretar la superposición"
      ],
      "metadata": {
        "id": "VZA8iYl3OghB"
      }
    },
    {
      "cell_type": "code",
      "source": [
        "from qiskit.visualization import plot_histogram\n",
        "\n",
        "statistics = v.sample_counts(1000)\n",
        "display(statistics)\n",
        "plot_histogram(statistics)"
      ],
      "metadata": {
        "id": "dCnFam6jKGC3"
      },
      "execution_count": null,
      "outputs": []
    },
    {
      "cell_type": "markdown",
      "source": [
        "Circuitos cuánticos"
      ],
      "metadata": {
        "id": "GrRngpbyO43G"
      }
    },
    {
      "cell_type": "code",
      "source": [
        "from qiskit.quantum_info import Operator\n",
        "\n",
        "X = Operator([[0, 1], [1, 0]])\n",
        "Y = Operator([[0, -1.0j], [1.0j, 0]])\n",
        "Z = Operator([[1, 0], [0, -1]])\n",
        "H = Operator([[1 / sqrt(2), 1 / sqrt(2)], [1 / sqrt(2), -1 / sqrt(2)]])\n",
        "S = Operator([[1, 0], [0, 1.0j]])\n",
        "T = Operator([[1, 0], [0, (1 + 1.0j) / sqrt(2)]])\n",
        "\n",
        "v = Statevector([1, 0])\n",
        "\n",
        "v = v.evolve(H)\n",
        "v = v.evolve(T)\n",
        "v = v.evolve(H)\n",
        "v = v.evolve(T)\n",
        "v = v.evolve(Z)\n",
        "\n",
        "v.draw(\"text\")"
      ],
      "metadata": {
        "id": "3-1VZ0XWKKLm"
      },
      "execution_count": null,
      "outputs": []
    },
    {
      "cell_type": "code",
      "source": [
        "from qiskit import QuantumCircuit\n",
        "\n",
        "circuit = QuantumCircuit(1)\n",
        "\n",
        "circuit.h(0)\n",
        "circuit.t(0)\n",
        "circuit.h(0)\n",
        "circuit.t(0)\n",
        "circuit.z(0)\n",
        "\n",
        "\n",
        "circuit.draw()"
      ],
      "metadata": {
        "id": "UY-sNUIGKKgy"
      },
      "execution_count": null,
      "outputs": []
    },
    {
      "cell_type": "code",
      "source": [
        "ket0 = Statevector([1, 0])\n",
        "v = ket0.evolve(circuit)\n",
        "v.draw(\"text\")"
      ],
      "metadata": {
        "id": "NbHmVd9kKOD4"
      },
      "execution_count": null,
      "outputs": []
    },
    {
      "cell_type": "code",
      "source": [
        "statistics = v.sample_counts(4000)\n",
        "plot_histogram(statistics)"
      ],
      "metadata": {
        "id": "GjZF9nzyKRvo"
      },
      "execution_count": null,
      "outputs": []
    },
    {
      "cell_type": "markdown",
      "source": [
        "[Pregrado en Ciencia de Datos - Universidad Central](https://www.ucentral.edu.co/programa-academico/ciencia-datos)"
      ],
      "metadata": {
        "id": "1lfuiF3eJK7l"
      }
    },
    {
      "cell_type": "markdown",
      "source": [
        "Para seguir aprendiendo:\n",
        "\n",
        "[IBM Quantum Learning](https://learning.quantum.ibm.com/)\n",
        "\n",
        "[Quantum AI - Educational Resources](https://quantumai.google/resources)"
      ],
      "metadata": {
        "id": "mfsnOZ8pJNic"
      }
    }
  ]
}