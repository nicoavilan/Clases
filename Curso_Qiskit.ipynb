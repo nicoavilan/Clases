{
  "nbformat": 4,
  "nbformat_minor": 0,
  "metadata": {
    "colab": {
      "provenance": [],
      "include_colab_link": true
    },
    "kernelspec": {
      "name": "python3",
      "display_name": "Python 3"
    },
    "language_info": {
      "name": "python"
    }
  },
  "cells": [
    {
      "cell_type": "markdown",
      "metadata": {
        "id": "view-in-github",
        "colab_type": "text"
      },
      "source": [
        "<a href=\"https://colab.research.google.com/github/nicoavilan/Clases/blob/main/Curso_Qiskit.ipynb\" target=\"_parent\"><img src=\"https://colab.research.google.com/assets/colab-badge.svg\" alt=\"Open In Colab\"/></a>"
      ]
    },
    {
      "cell_type": "markdown",
      "source": [
        "# **Iniciación a la Computación Cuántica**\n",
        "\n",
        "**Nicolás Avilán Vargas, PhD.**\n",
        "\n",
        "Escuela de Ingeniería, Ciencia y Tecnología\n",
        "\n",
        "Universidad del Rosario\n"
      ],
      "metadata": {
        "id": "wZwpSEohJDY5"
      }
    },
    {
      "cell_type": "markdown",
      "source": [
        "Video introductorio:\n",
        "\n",
        "[¿Qué es y cómo funciona la COMPUTACIÓN CUÁNTICA?](https://www.youtube.com/watch?v=YpYuBEzfRlM)"
      ],
      "metadata": {
        "id": "L-g287OfJ1S0"
      }
    },
    {
      "cell_type": "markdown",
      "source": [
        "# Simulación del lanzamiento de monedas"
      ],
      "metadata": {
        "id": "uWvj8LfuzKbf"
      }
    },
    {
      "cell_type": "markdown",
      "source": [
        "Cargo librerías"
      ],
      "metadata": {
        "id": "F5QDb_54vxO_"
      }
    },
    {
      "cell_type": "code",
      "source": [
        "import numpy as np\n",
        "import pandas as pd\n",
        "import seaborn as sns"
      ],
      "metadata": {
        "id": "CGFZcAa8LU5X"
      },
      "execution_count": 1,
      "outputs": []
    },
    {
      "cell_type": "markdown",
      "source": [
        "Es fácil simular el lazamiento de una moneda"
      ],
      "metadata": {
        "id": "AgfvOOhuzsd-"
      }
    },
    {
      "cell_type": "code",
      "source": [
        "np.random.choice([\"cara\", \"sello\"])"
      ],
      "metadata": {
        "id": "wxAcp6TUzW9u"
      },
      "execution_count": null,
      "outputs": []
    },
    {
      "cell_type": "markdown",
      "source": [
        "¿Cómo se verifican las probabilidades?\n",
        "\n",
        "Haciendo muchos experimentos"
      ],
      "metadata": {
        "id": "HOrryov5zzl2"
      }
    },
    {
      "cell_type": "code",
      "source": [
        "N = 10\n",
        "moneda = []\n",
        "for n in range(N):\n",
        "  moneda.append(np.random.choice([\"cara\", \"sello\"]))\n",
        "print(moneda)"
      ],
      "metadata": {
        "id": "GpG5A6Z4z6UQ"
      },
      "execution_count": null,
      "outputs": []
    },
    {
      "cell_type": "code",
      "source": [
        "pd.Series(moneda).value_counts()"
      ],
      "metadata": {
        "id": "zFpuhM5d0Gws"
      },
      "execution_count": null,
      "outputs": []
    },
    {
      "cell_type": "code",
      "source": [
        "sns.histplot(moneda);"
      ],
      "metadata": {
        "id": "riK2azRr09gL"
      },
      "execution_count": null,
      "outputs": []
    },
    {
      "cell_type": "markdown",
      "source": [
        "**Estados Cuánticos**"
      ],
      "metadata": {
        "id": "yoJPza73zOMy"
      }
    },
    {
      "cell_type": "markdown",
      "source": [
        "Notación de kets como vectores\n",
        "\n",
        "$$|0 \\rangle = \\begin{pmatrix}\n",
        "1 \\\\\n",
        "0\n",
        "\\end{pmatrix} , \\qquad  |1 \\rangle = \\begin{pmatrix}\n",
        "0 \\\\\n",
        "1\n",
        "\\end{pmatrix}$$\n",
        "\n",
        "$$\\frac{1}{2}|0 \\rangle + \\frac{1}{2}|1 \\rangle= \\frac{1}{2}\\begin{pmatrix}\n",
        "1 \\\\\n",
        "1\n",
        "\\end{pmatrix} = \\begin{pmatrix}\n",
        "1/2 \\\\\n",
        "1/2\n",
        "\\end{pmatrix}$$"
      ],
      "metadata": {
        "id": "KjE71WLhKcV5"
      }
    },
    {
      "cell_type": "code",
      "execution_count": null,
      "metadata": {
        "id": "s-8TQ308JR2f"
      },
      "outputs": [],
      "source": [
        "ket0 = np.array([1, 0])\n",
        "ket1 = np.array([0, 1])\n",
        "\n",
        "display(ket0 / 2 + ket1 / 2)"
      ]
    },
    {
      "cell_type": "code",
      "source": [
        "ket0 / 2 + ket1 / 2"
      ],
      "metadata": {
        "id": "QbEaTlTcJaC4"
      },
      "execution_count": null,
      "outputs": []
    },
    {
      "cell_type": "markdown",
      "source": [
        "Inicio a Qiskit"
      ],
      "metadata": {
        "id": "Dfb1DxX2MK6s"
      }
    },
    {
      "cell_type": "code",
      "source": [
        "%pip install qiskit"
      ],
      "metadata": {
        "id": "KDkbgEztMP4g"
      },
      "execution_count": null,
      "outputs": []
    },
    {
      "cell_type": "code",
      "source": [
        "from qiskit.quantum_info import Statevector"
      ],
      "metadata": {
        "id": "2zT6anaUMZes"
      },
      "execution_count": 9,
      "outputs": []
    },
    {
      "cell_type": "code",
      "source": [
        "u = Statevector([1 / np.sqrt(2), 1 / np.sqrt(2)])\n",
        "v = Statevector([(1 + 2.0j) / 3, -2 / 3])\n",
        "w = Statevector([1 / 3, 2 / 3])\n",
        "\n",
        "print(\"Los vectores de estado u, v y w se han definido.\")"
      ],
      "metadata": {
        "id": "hA7RaDBiJnQ-"
      },
      "execution_count": null,
      "outputs": []
    },
    {
      "cell_type": "markdown",
      "source": [
        "Expreso los estados"
      ],
      "metadata": {
        "id": "Pkho2ExlNO8A"
      }
    },
    {
      "cell_type": "code",
      "source": [
        "display(u.draw(\"latex\"))"
      ],
      "metadata": {
        "id": "yOPc2S-XJqVU"
      },
      "execution_count": null,
      "outputs": []
    },
    {
      "cell_type": "code",
      "source": [
        "display(v.draw(\"latex\"))"
      ],
      "metadata": {
        "id": "N9R66CwzNMGb"
      },
      "execution_count": null,
      "outputs": []
    },
    {
      "cell_type": "markdown",
      "source": [
        "Verifico si son estados válidos"
      ],
      "metadata": {
        "id": "6eDBl2RcNL01"
      }
    },
    {
      "cell_type": "code",
      "source": [
        "display(u.is_valid())"
      ],
      "metadata": {
        "id": "XrHfgZnpJ95n"
      },
      "execution_count": null,
      "outputs": []
    },
    {
      "cell_type": "code",
      "source": [
        "display(w.is_valid())"
      ],
      "metadata": {
        "id": "tEqIA5p9NukB"
      },
      "execution_count": null,
      "outputs": []
    },
    {
      "cell_type": "markdown",
      "source": [
        "¿Cómo entiendo esto?"
      ],
      "metadata": {
        "id": "BaLOzFP5x6Qj"
      }
    },
    {
      "cell_type": "code",
      "source": [
        "np.round(np.matmul(u,u),3)"
      ],
      "metadata": {
        "id": "UvJqr38zxdqn"
      },
      "execution_count": null,
      "outputs": []
    },
    {
      "cell_type": "code",
      "source": [
        "np.round(np.matmul(w,w),3)"
      ],
      "metadata": {
        "id": "csg6om9fxemq"
      },
      "execution_count": null,
      "outputs": []
    },
    {
      "cell_type": "code",
      "source": [
        "v = Statevector([(1 + 2.0j) / 3, -2 / 3])\n",
        "v.draw(\"latex\")"
      ],
      "metadata": {
        "id": "_Xpd3ISqJ-NQ"
      },
      "execution_count": null,
      "outputs": []
    },
    {
      "cell_type": "code",
      "source": [
        "np.round(np.matmul(v,v),3)"
      ],
      "metadata": {
        "id": "L1TXuI7mx_zh"
      },
      "execution_count": null,
      "outputs": []
    },
    {
      "cell_type": "markdown",
      "source": [
        "Mido el estado. En cada ejecución puedo generar un resultado diferente"
      ],
      "metadata": {
        "id": "BIX_V_-NOMJU"
      }
    },
    {
      "cell_type": "code",
      "source": [
        "v.measure()"
      ],
      "metadata": {
        "id": "OAhKQVIgKAv5"
      },
      "execution_count": null,
      "outputs": []
    },
    {
      "cell_type": "markdown",
      "source": [
        "Puedo hacer una cantidad significativa de experimentos para interpretar la superposición"
      ],
      "metadata": {
        "id": "VZA8iYl3OghB"
      }
    },
    {
      "cell_type": "code",
      "source": [
        "from qiskit.visualization import plot_histogram\n",
        "\n",
        "statistics = v.sample_counts(1000)\n",
        "display(statistics)\n",
        "plot_histogram(statistics)"
      ],
      "metadata": {
        "id": "dCnFam6jKGC3"
      },
      "execution_count": null,
      "outputs": []
    },
    {
      "cell_type": "markdown",
      "source": [
        "Para seguir aprendiendo:\n",
        "\n",
        "[IBM Quantum Learning](https://learning.quantum.ibm.com/)\n",
        "\n",
        "[Quantum AI - Educational Resources](https://quantumai.google/resources)"
      ],
      "metadata": {
        "id": "mfsnOZ8pJNic"
      }
    }
  ]
}