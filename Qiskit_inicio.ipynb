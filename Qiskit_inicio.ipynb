{
  "nbformat": 4,
  "nbformat_minor": 0,
  "metadata": {
    "colab": {
      "provenance": [],
      "include_colab_link": true
    },
    "kernelspec": {
      "name": "python3",
      "display_name": "Python 3"
    },
    "language_info": {
      "name": "python"
    }
  },
  "cells": [
    {
      "cell_type": "markdown",
      "metadata": {
        "id": "view-in-github",
        "colab_type": "text"
      },
      "source": [
        "<a href=\"https://colab.research.google.com/github/nicoavilan/Clases/blob/main/Qiskit_inicio.ipynb\" target=\"_parent\"><img src=\"https://colab.research.google.com/assets/colab-badge.svg\" alt=\"Open In Colab\"/></a>"
      ]
    },
    {
      "cell_type": "markdown",
      "source": [
        "**Introducción a la Computación Cuántica**\n",
        "\n",
        "[Matematicas Aplicadas y Ciencias de la Computacion - MACC](https://urosario.edu.co/matematicas-aplicadas-y-ciencias-de-la-computacion-macc)\n",
        "\n",
        "[Escuela de Ingenieria, Ciencia y Tecnologia](https://urosario.edu.co/escuela-de-ingenieria-ciencia-y-tecnologia)\n",
        "\n",
        "[Universidad del Rosario](https://urosario.edu.co/)"
      ],
      "metadata": {
        "id": "mmz1L68rU3Z-"
      }
    },
    {
      "cell_type": "markdown",
      "source": [
        "Curso de IBM recomendado para profundizar: [Basics of Quantum Information](https://learning.quantum.ibm.com/course/basics-of-quantum-information)"
      ],
      "metadata": {
        "id": "zkDyAYjy6u9Z"
      }
    },
    {
      "cell_type": "markdown",
      "source": [
        "Librerías"
      ],
      "metadata": {
        "id": "MyV3ukqx7O-J"
      }
    },
    {
      "cell_type": "code",
      "source": [
        "import numpy as np\n",
        "import pandas as pd\n",
        "import seaborn as sns"
      ],
      "metadata": {
        "id": "9rCoM62eiwzz"
      },
      "execution_count": 1,
      "outputs": []
    },
    {
      "cell_type": "markdown",
      "source": [
        "## Simulación de una moneda"
      ],
      "metadata": {
        "id": "76AzyFrOtj7L"
      }
    },
    {
      "cell_type": "markdown",
      "source": [
        "Hacemos una simulación del lanzamiento de una moneda para tener intuiciones respecto al las mediciones de los estados cuánticos."
      ],
      "metadata": {
        "id": "rSdEsAEdYq0n"
      }
    },
    {
      "cell_type": "code",
      "source": [
        "# En cada ejecución podemos tener un resultado diferente\n",
        "print(np.random.choice([\"Cara\", \"Sello\"]))"
      ],
      "metadata": {
        "id": "vbfk9NootnHC"
      },
      "execution_count": null,
      "outputs": []
    },
    {
      "cell_type": "markdown",
      "source": [
        "Examinamos el resultado de lanzar muchas monedas"
      ],
      "metadata": {
        "id": "I6boItrrt8Ng"
      }
    },
    {
      "cell_type": "code",
      "source": [
        "monedas = []\n",
        "# probar con diferentes valores para evidenciar el comportamiento\n",
        "# 10, 100, 1000, 10000\n",
        "N = 10**1\n",
        "for _ in range(N):\n",
        "  monedas.append(np.random.choice([\"Cara\", \"Sello\"]))\n",
        "\n",
        "#print(monedas)\n",
        "print(pd.Series(monedas).value_counts())\n",
        "sns.histplot(monedas);"
      ],
      "metadata": {
        "id": "nPWZZHYHuAiK"
      },
      "execution_count": null,
      "outputs": []
    },
    {
      "cell_type": "code",
      "source": [
        "sns.histplot(monedas);"
      ],
      "metadata": {
        "id": "tJlESkPDu5MO"
      },
      "execution_count": null,
      "outputs": []
    },
    {
      "cell_type": "markdown",
      "source": [
        "## Inicio Qiskit"
      ],
      "metadata": {
        "id": "sPQ0eo5BIG5f"
      }
    },
    {
      "cell_type": "code",
      "source": [
        "# instalo qiskit\n",
        "%pip install qiskit --quiet"
      ],
      "metadata": {
        "collapsed": true,
        "id": "oTE0vtt2o-WQ"
      },
      "execution_count": null,
      "outputs": []
    },
    {
      "cell_type": "markdown",
      "source": [
        "**Statevector** nos permite definir estados cuánticos y hacer algunas operaciones entre ellos.\n",
        "\n",
        "Consultar [Statevector](https://docs.quantum.ibm.com/api/qiskit/qiskit.quantum_info.Statevector)"
      ],
      "metadata": {
        "id": "ONzeGGotLyUa"
      }
    },
    {
      "cell_type": "markdown",
      "source": [
        "### Estados cuánticos"
      ],
      "metadata": {
        "id": "HPLHoMgkP2FX"
      }
    },
    {
      "cell_type": "code",
      "source": [
        "from qiskit.quantum_info import Statevector"
      ],
      "metadata": {
        "id": "sVI2i0dTo7eg"
      },
      "execution_count": 9,
      "outputs": []
    },
    {
      "cell_type": "code",
      "source": [
        "# Statevector es una función que define un estado cuántico a partir de dos números que en general son complejos.\n",
        "\n",
        "u = Statevector([1 / np.sqrt(2), 1 / np.sqrt(2)])\n",
        "v = Statevector([(1 + 2.0j) / 3, -2 / 3])\n",
        "w = Statevector([1 / 3, 2 / 3])\n",
        "\n",
        "print(\"State vectors u, v, and w have been defined.\")"
      ],
      "metadata": {
        "id": "8VWBxG7-o5AG"
      },
      "execution_count": null,
      "outputs": []
    },
    {
      "cell_type": "markdown",
      "source": [
        "Visualizamos los estados con la notación de kets"
      ],
      "metadata": {
        "id": "Xz7QYwSBMRH3"
      }
    },
    {
      "cell_type": "code",
      "source": [
        "v.draw(\"latex\")"
      ],
      "metadata": {
        "id": "vrFYE1GFKpYK"
      },
      "execution_count": null,
      "outputs": []
    },
    {
      "cell_type": "markdown",
      "source": [
        "Evaluamos el conjugado"
      ],
      "metadata": {
        "id": "T-T-zjVjMUog"
      }
    },
    {
      "cell_type": "code",
      "source": [
        "v.conjugate().draw(\"latex\")"
      ],
      "metadata": {
        "id": "hsJwUjuRKqyb"
      },
      "execution_count": null,
      "outputs": []
    },
    {
      "cell_type": "markdown",
      "source": [
        "Los coeficientes nos dan información de la probabilidad de encontrar el sistema en cada estado (recordar [Regla de Born](https://en.wikipedia.org/wiki/Born_rule))"
      ],
      "metadata": {
        "id": "g1mlyiPVM4PU"
      }
    },
    {
      "cell_type": "code",
      "source": [
        "_0 = Statevector([1, 0])\n",
        "_1 = Statevector([0, 1])"
      ],
      "metadata": {
        "id": "we3_N2q_wEJx"
      },
      "execution_count": 13,
      "outputs": []
    },
    {
      "cell_type": "code",
      "source": [
        "v.probabilities()"
      ],
      "metadata": {
        "id": "k_1HDnZ1MqXe"
      },
      "execution_count": null,
      "outputs": []
    },
    {
      "cell_type": "code",
      "source": [
        "print(v.probabilities().sum())"
      ],
      "metadata": {
        "id": "sUPNGrD1xkAq"
      },
      "execution_count": null,
      "outputs": []
    },
    {
      "cell_type": "markdown",
      "source": [
        "Verificamos si un estado es válido o no. Observemos que el estado es válido si las probabilidades de los estados suman 1."
      ],
      "metadata": {
        "id": "uezeHrJeNo10"
      }
    },
    {
      "cell_type": "code",
      "source": [
        "# .isvalid() verufica si la norma del vector es 1.\n",
        "display(u.is_valid())\n",
        "display(w.is_valid())"
      ],
      "metadata": {
        "id": "SeYSLw4KqqYk"
      },
      "execution_count": null,
      "outputs": []
    },
    {
      "cell_type": "code",
      "source": [
        "v.probabilities()#.sum()"
      ],
      "metadata": {
        "id": "swECFkL_N3HK"
      },
      "execution_count": null,
      "outputs": []
    },
    {
      "cell_type": "code",
      "source": [
        "print(w.probabilities().sum())"
      ],
      "metadata": {
        "id": "1idg4FEpN8T6"
      },
      "execution_count": null,
      "outputs": []
    },
    {
      "cell_type": "markdown",
      "source": [
        "### Medidas sobre los estados"
      ],
      "metadata": {
        "id": "TtxCOwFOP7uW"
      }
    },
    {
      "cell_type": "markdown",
      "source": [
        "Podemos medir hacer una medida para cada estado"
      ],
      "metadata": {
        "id": "OMvR08eaOD3R"
      }
    },
    {
      "cell_type": "code",
      "source": [
        "print(v.measure()[0])"
      ],
      "metadata": {
        "id": "_rwjAtlxsJBh"
      },
      "execution_count": null,
      "outputs": []
    },
    {
      "cell_type": "markdown",
      "source": [
        "Observemos que en cada ejecución podemos tener un resultado diferente ... como en el caso del lanzamiento de monedas!"
      ],
      "metadata": {
        "id": "C6OYvaL1OV7q"
      }
    },
    {
      "cell_type": "code",
      "source": [
        "v_ = v.measure() # Guardo la medida\n",
        "print(v_[0]) # Imprimo el estado\n",
        "print(v_[1].probabilities()) # Imprimo actualización de las probabilidades\n",
        "v_[1].measure()"
      ],
      "metadata": {
        "id": "AXW-qi8FOP26"
      },
      "execution_count": null,
      "outputs": []
    },
    {
      "cell_type": "markdown",
      "source": [
        "Ahora, para verificar la distribución de probabilidades hacemos un mayor número de experimentos y analizamos los resultados."
      ],
      "metadata": {
        "id": "ZTuLeh5kOjgH"
      }
    },
    {
      "cell_type": "markdown",
      "source": [
        "El histograma debería evidenciar la siguiente distribución de probabilidades:"
      ],
      "metadata": {
        "id": "hKSetmc4Ot8g"
      }
    },
    {
      "cell_type": "code",
      "source": [
        "v.probabilities()"
      ],
      "metadata": {
        "id": "IgV9XjMTO34J"
      },
      "execution_count": null,
      "outputs": []
    },
    {
      "cell_type": "markdown",
      "source": [
        "Esto se verifica en el histograma"
      ],
      "metadata": {
        "id": "Mk6UMM7sO6lw"
      }
    },
    {
      "cell_type": "code",
      "source": [
        "from qiskit.visualization import plot_histogram\n",
        "\n",
        "statistics = v.sample_counts(1000)\n",
        "display(statistics)\n",
        "plot_histogram(statistics)"
      ],
      "metadata": {
        "id": "UQj5SQxexc_S"
      },
      "execution_count": null,
      "outputs": []
    },
    {
      "cell_type": "markdown",
      "source": [
        "El estado u se definió con igual probabilidad para $|0\\rangle$ y $|1\\rangle$."
      ],
      "metadata": {
        "id": "8W8RHiHcPW9n"
      }
    },
    {
      "cell_type": "code",
      "source": [
        "u.draw(\"latex\")"
      ],
      "metadata": {
        "id": "H6HBZvaPPjRu"
      },
      "execution_count": null,
      "outputs": []
    },
    {
      "cell_type": "code",
      "source": [
        "u.probabilities()"
      ],
      "metadata": {
        "id": "4RB2fCuuPmv-"
      },
      "execution_count": null,
      "outputs": []
    },
    {
      "cell_type": "markdown",
      "source": [
        "lo cual se verifica en el histograma"
      ],
      "metadata": {
        "id": "8pxb3lW9Pp23"
      }
    },
    {
      "cell_type": "code",
      "source": [
        "statistics = u.sample_counts(10000)\n",
        "display(statistics)\n",
        "plot_histogram(statistics)"
      ],
      "metadata": {
        "id": "oA21uh3vzF0g"
      },
      "execution_count": null,
      "outputs": []
    },
    {
      "cell_type": "markdown",
      "source": [
        "[Nicolás Avilán Vargas](http://www.linkedin.com/in/nicoavilanv)\n",
        "\n",
        "Para reportar errores o sugenerencias: nicolasg.avilan@urosario.edu.co"
      ],
      "metadata": {
        "id": "d4ShQCHqZo0v"
      }
    }
  ]
}