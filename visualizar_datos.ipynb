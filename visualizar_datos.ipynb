{
  "nbformat": 4,
  "nbformat_minor": 0,
  "metadata": {
    "colab": {
      "provenance": [],
      "authorship_tag": "ABX9TyNKsCmJqUk+B7hb67iGUh8j",
      "include_colab_link": true
    },
    "kernelspec": {
      "name": "python3",
      "display_name": "Python 3"
    },
    "language_info": {
      "name": "python"
    }
  },
  "cells": [
    {
      "cell_type": "markdown",
      "metadata": {
        "id": "view-in-github",
        "colab_type": "text"
      },
      "source": [
        "<a href=\"https://colab.research.google.com/github/nicoavilan/Clases/blob/main/visualizar_datos.ipynb\" target=\"_parent\"><img src=\"https://colab.research.google.com/assets/colab-badge.svg\" alt=\"Open In Colab\"/></a>"
      ]
    },
    {
      "cell_type": "markdown",
      "source": [
        "# **Introducción a la Ciencia de datos**\n",
        "\n",
        "**Nicolás Avilán Vargas, PhD.** \\\n",
        "navilanv@ucentral.edu.co \\\n",
        "Director de Ciencia de Datos \\\n",
        "Facultad de Ingeniería y Ciencias Básicas \\\n",
        "**Universidad Central**\n",
        "\n",
        "[Pregrado en Ciencia de Datos - Universidad Central](https://www.ucentral.edu.co/programa-academico/ciencia-datos)\\\n",
        "cienciadedatos@ucentral.edu.co"
      ],
      "metadata": {
        "id": "uUminPOc0U5M"
      }
    },
    {
      "cell_type": "markdown",
      "source": [
        "## Librerías"
      ],
      "metadata": {
        "id": "jtTQn8gHpAbC"
      }
    },
    {
      "cell_type": "markdown",
      "source": [
        "Las librerías son como cajas de herramientas para tareas específicas de programación."
      ],
      "metadata": {
        "id": "1PYdrZlJrvpc"
      }
    },
    {
      "cell_type": "code",
      "execution_count": 1,
      "metadata": {
        "id": "6x6nMh5lo3NG"
      },
      "outputs": [],
      "source": [
        "import numpy as np # Para manipular números\n",
        "import pandas as pd # Para manipular tablas de datos\n",
        "import matplotlib.pyplot as plt # Para hacer gráficas"
      ]
    },
    {
      "cell_type": "markdown",
      "source": [
        "Defino una fución\n",
        "\n",
        "$y = x^2$"
      ],
      "metadata": {
        "id": "yFKdMuegGbze"
      }
    },
    {
      "cell_type": "code",
      "source": [
        "x = np.linspace(0, 5, 11) # (mínimo, máximo, cantidad)\n",
        "y = x**2"
      ],
      "metadata": {
        "id": "dMa-ivn7Geaw"
      },
      "execution_count": 2,
      "outputs": []
    },
    {
      "cell_type": "markdown",
      "source": [
        "Primera gráfica"
      ],
      "metadata": {
        "id": "flkysj8eGvQo"
      }
    },
    {
      "cell_type": "code",
      "source": [
        "plt.figure(figsize= (4,3)) # Tamaño de la gráfica (base, altura)\n",
        "plt.plot(x,y)\n",
        "plt.title(\"Título\")\n",
        "plt.xlabel(\"Eje horizontal\")\n",
        "plt.ylabel(\"Eje vertical\")\n",
        "plt.show()"
      ],
      "metadata": {
        "collapsed": true,
        "id": "pY1GHjtmGw3p"
      },
      "execution_count": null,
      "outputs": []
    },
    {
      "cell_type": "code",
      "source": [
        "plt.figure(figsize= (4,3)) # Tamaño de la gráfica (base, altura)\n",
        "plt.scatter(x,y, color= \"red\")\n",
        "plt.title(\"Título\")\n",
        "plt.xlabel(\"Eje horizontal\")\n",
        "plt.ylabel(\"Eje vertical\")\n",
        "plt.show()"
      ],
      "metadata": {
        "id": "Gfp-LDMsG79c"
      },
      "execution_count": null,
      "outputs": []
    },
    {
      "cell_type": "code",
      "source": [
        "plt.figure(figsize= (4,3)) # Tamaño de la gráfica (base, altura)\n",
        "plt.plot(x,y, \"o-\", color= \"red\", linewidth=10.0, markersize = 20)\n",
        "plt.title(\"Título\")\n",
        "plt.xlabel(\"Eje horizontal\")\n",
        "plt.ylabel(\"Eje vertical\")\n",
        "plt.show()"
      ],
      "metadata": {
        "id": "1ptX_75WJibP"
      },
      "execution_count": null,
      "outputs": []
    },
    {
      "cell_type": "markdown",
      "source": [
        "Lanzamiento de un dado"
      ],
      "metadata": {
        "id": "s0y2u3jwHBrs"
      }
    },
    {
      "cell_type": "code",
      "source": [
        "np.random.seed(123)\n",
        "np.random.randint(1, 7, 10)"
      ],
      "metadata": {
        "colab": {
          "base_uri": "https://localhost:8080/"
        },
        "id": "qCnxLwElHEE9",
        "outputId": "534d9322-1c70-48e3-aebb-f238fed4149b"
      },
      "execution_count": 6,
      "outputs": [
        {
          "output_type": "execute_result",
          "data": {
            "text/plain": [
              "array([6, 3, 5, 3, 2, 4, 3, 4, 2, 2])"
            ]
          },
          "metadata": {},
          "execution_count": 6
        }
      ]
    },
    {
      "cell_type": "code",
      "source": [
        "N = 600\n",
        "np.random.seed(123)\n",
        "d = np.random.randint(1, 7, N)"
      ],
      "metadata": {
        "id": "UYtkgRTbHL_H"
      },
      "execution_count": 7,
      "outputs": []
    },
    {
      "cell_type": "code",
      "source": [
        "plt.hist(d, bins= 6, edgecolor=\"white\", range = (1, 7))\n",
        "plt.show()"
      ],
      "metadata": {
        "id": "VMwA_DOpHhlL"
      },
      "execution_count": null,
      "outputs": []
    },
    {
      "cell_type": "code",
      "source": [
        "plt.figure(figsize = (4,3))\n",
        "cuentas, ejes, barras = plt.hist(d, bins= 6, edgecolor=\"white\", range = (1, 7))\n",
        "plt.bar_label(barras)\n",
        "plt.ylim(0,120) # Defino el límite vertical de la gráfica\n",
        "plt.show()"
      ],
      "metadata": {
        "id": "jNNWLY5IHljv"
      },
      "execution_count": null,
      "outputs": []
    },
    {
      "cell_type": "markdown",
      "source": [
        "Dos dados"
      ],
      "metadata": {
        "id": "IfYx_QINLPp8"
      }
    },
    {
      "cell_type": "code",
      "source": [
        "N = 5000\n",
        "np.random.seed(123)\n",
        "d1 = np.random.randint(1, 7, N)\n",
        "d2 = np.random.randint(1, 7, N)"
      ],
      "metadata": {
        "id": "Hqbm9jZaLTuG"
      },
      "execution_count": 10,
      "outputs": []
    },
    {
      "cell_type": "code",
      "source": [
        "plt.figure(figsize = (4,3))\n",
        "cuentas, ejes, barras = plt.hist(d1 + d2, bins= 11, edgecolor=\"white\", range = (2, 13))\n",
        "plt.bar_label(barras)\n",
        "plt.ylim(0,1000) # Defino el límite vertical de la gráfica\n",
        "plt.xticks(np.arange(2, 13))\n",
        "plt.show()"
      ],
      "metadata": {
        "id": "nq0zhhFDLZIA"
      },
      "execution_count": null,
      "outputs": []
    },
    {
      "cell_type": "markdown",
      "source": [
        "Diagrama de barras"
      ],
      "metadata": {
        "id": "zBfSKLbGHtzS"
      }
    },
    {
      "cell_type": "code",
      "source": [
        "x = ['Nuclear', 'Hidro', 'Carbón', 'Gas', 'Solar', 'Eólica', 'Otro']\n",
        "porcentaje = [71, 10, 3, 7, 2, 4, 3]\n",
        "varianza = [8, 3, 1, 3, 1, 2, 1]"
      ],
      "metadata": {
        "id": "8IryDo9FHuyc"
      },
      "execution_count": 12,
      "outputs": []
    },
    {
      "cell_type": "code",
      "source": [
        "plt.figure(figsize= (5,3))\n",
        "plt.bar(x, porcentaje, color = \"brown\", yerr= varianza)\n",
        "plt.show()"
      ],
      "metadata": {
        "id": "7YL6QFXGH0kD"
      },
      "execution_count": null,
      "outputs": []
    },
    {
      "cell_type": "markdown",
      "source": [
        "Diagrama de torta"
      ],
      "metadata": {
        "id": "tXYyiwDbH4ZX"
      }
    },
    {
      "cell_type": "code",
      "source": [
        "animales = [\"Patos\", \"Perros\", \"Conejos\", \"Saltamontes\"]\n",
        "cantidades = [5, 6, 2, 10]"
      ],
      "metadata": {
        "id": "tkGjqbUnH9ZV"
      },
      "execution_count": 14,
      "outputs": []
    },
    {
      "cell_type": "code",
      "source": [
        "plt.pie(cantidades, labels= animales, autopct= \"%5.0f%%\")\n",
        "plt.show()"
      ],
      "metadata": {
        "id": "DqmZJIHZH_cb"
      },
      "execution_count": null,
      "outputs": []
    },
    {
      "cell_type": "markdown",
      "source": [
        "# **Otros ejemplos de visualización de datos**\n",
        "\n",
        "[Animación Réplicas Terremoto de Japón 2011 - Python](https://www.youtube.com/watch?v=RtfQsumrZ2Q)\n",
        "\n",
        "[Personalizando gráficas - matplotlib](https://www.youtube.com/watch?v=vjiyRBOJTVc)\n",
        "\n",
        "[Animación Pelota rebotando | Python](https://www.youtube.com/watch?v=zU165oj1Ajg)\n"
      ],
      "metadata": {
        "id": "qynKy-_P2n3U"
      }
    },
    {
      "cell_type": "markdown",
      "source": [
        "**¡Quiero inscribirme a Ciencia de Datos!**\n",
        "\n",
        "[Enlace de inscripción](https://www.ucentral.edu.co/admisiones/inscripciones-pregrado-posgrado)"
      ],
      "metadata": {
        "id": "aIBPR35u3Je1"
      }
    }
  ]
}